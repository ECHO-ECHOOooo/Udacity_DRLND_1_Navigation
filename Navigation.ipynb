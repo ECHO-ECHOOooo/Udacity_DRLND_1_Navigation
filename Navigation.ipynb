{
 "cells": [
  {
   "cell_type": "markdown",
   "metadata": {},
   "source": [
    "# Navigation\n",
    "\n",
    "---\n",
    "\n",
    "In this notebook, you will learn how to use the Unity ML-Agents environment for the first project of the [Deep Reinforcement Learning Nanodegree](https://www.udacity.com/course/deep-reinforcement-learning-nanodegree--nd893).\n",
    "\n",
    "### 1. Start the Environment\n",
    "\n",
    "We begin by importing some necessary packages.  If the code cell below returns an error, please revisit the project instructions to double-check that you have installed [Unity ML-Agents](https://github.com/Unity-Technologies/ml-agents/blob/master/docs/Installation.md) and [NumPy](http://www.numpy.org/)."
   ]
  },
  {
   "cell_type": "markdown",
   "metadata": {},
   "source": [
    "Environments contain **_brains_** which are responsible for deciding the actions of their associated agents. Here we check for the first brain available, and set it as the default brain we will be controlling from Python."
   ]
  },
  {
   "cell_type": "markdown",
   "metadata": {},
   "source": [
    "## 2. It's Your Turn!\n",
    "\n",
    "Now it's your turn to train your own agent to solve the environment!  When training the environment, set `train_mode=True`, so that the line for resetting the environment looks like the following:\n",
    "```python\n",
    "env_info = env.reset(train_mode=True)[brain_name]\n",
    "```"
   ]
  },
  {
   "cell_type": "code",
   "execution_count": 1,
   "metadata": {},
   "outputs": [
    {
     "name": "stderr",
     "output_type": "stream",
     "text": [
      "INFO:unityagents:\n",
      "'Academy' started successfully!\n",
      "Unity Academy name: Academy\n",
      "        Number of Brains: 1\n",
      "        Number of External Brains : 1\n",
      "        Lesson number : 0\n",
      "        Reset Parameters :\n",
      "\t\t\n",
      "Unity brain name: BananaBrain\n",
      "        Number of Visual Observations (per agent): 0\n",
      "        Vector Observation space type: continuous\n",
      "        Vector Observation space size (per agent): 37\n",
      "        Number of stacked Vector Observation: 1\n",
      "        Vector Action space type: discrete\n",
      "        Vector Action space size (per agent): 4\n",
      "        Vector Action descriptions: , , , \n"
     ]
    }
   ],
   "source": [
    "from unityagents import UnityEnvironment\n",
    "import numpy as np\n",
    "import matplotlib.pyplot as plt\n",
    "from agent import Agent\n",
    "from collections import deque\n",
    "%matplotlib inline\n",
    "\n",
    "env = UnityEnvironment(file_name=\"Banana_Windows_x86_64/Banana.exe\")\n"
   ]
  },
  {
   "cell_type": "code",
   "execution_count": 2,
   "metadata": {},
   "outputs": [
    {
     "name": "stdout",
     "output_type": "stream",
     "text": [
      "States look like: [1.         0.         0.         0.         0.84408134 0.\n",
      " 0.         1.         0.         0.0748472  0.         1.\n",
      " 0.         0.         0.25755    1.         0.         0.\n",
      " 0.         0.74177343 0.         1.         0.         0.\n",
      " 0.25854847 0.         0.         1.         0.         0.09355672\n",
      " 0.         1.         0.         0.         0.31969345 0.\n",
      " 0.        ]\n",
      "States have length: 37\n",
      "action_size =  4   state_size =  37\n"
     ]
    }
   ],
   "source": [
    "\n",
    "# get the default brain\n",
    "brain_name = env.brain_names[0]\n",
    "brain = env.brains[brain_name]\n",
    "\n",
    "# Reset the Unity environment\n",
    "env_info = env.reset(train_mode=True)[brain_name]\n",
    "\n",
    "action_size = brain.vector_action_space_size\n",
    "\n",
    "# examine the state space \n",
    "state = env_info.vector_observations[0]\n",
    "print('States look like:', state)\n",
    "state_size = len(state)\n",
    "print('States have length:', state_size)\n",
    "print('action_size = ', action_size, '  state_size = ', state_size)\n",
    "\n",
    "state = env_info.vector_observations[0] \n",
    "agent = Agent(state_size=state_size, action_size=action_size, seed=0)"
   ]
  },
  {
   "cell_type": "code",
   "execution_count": 3,
   "metadata": {
    "scrolled": true
   },
   "outputs": [
    {
     "name": "stdout",
     "output_type": "stream",
     "text": [
      "Using brain  BananaBrain\n",
      "Episode 100\tAverage Score: 0.17\tEps: 0.90\tLR: 0.0452396\n",
      "Episode 200\tAverage Score: 0.56\tEps: 0.82\tLR: 0.0409324\n",
      "Episode 300\tAverage Score: 1.37\tEps: 0.74\tLR: 0.0370354\n",
      "Episode 400\tAverage Score: 2.25\tEps: 0.67\tLR: 0.0335093\n",
      "Episode 500\tAverage Score: 3.96\tEps: 0.61\tLR: 0.0303189\n",
      "Episode 600\tAverage Score: 4.23\tEps: 0.55\tLR: 0.0274323\n",
      "Episode 700\tAverage Score: 5.11\tEps: 0.50\tLR: 0.0248206\n",
      "Episode 800\tAverage Score: 6.39\tEps: 0.45\tLR: 0.0224575\n",
      "Episode 900\tAverage Score: 6.62\tEps: 0.41\tLR: 0.0203193\n",
      "Episode 1000\tAverage Score: 7.68\tEps: 0.37\tLR: 0.0183848\n",
      "Episode 1100\tAverage Score: 8.11\tEps: 0.33\tLR: 0.0166344\n",
      "Episode 1200\tAverage Score: 9.31\tEps: 0.30\tLR: 0.0150507\n",
      "Episode 1300\tAverage Score: 10.27\tEps: 0.27\tLR: 0.0136177\n",
      "Episode 1400\tAverage Score: 9.83\tEps: 0.25\tLR: 0.01232126\n",
      "Episode 1500\tAverage Score: 10.40\tEps: 0.22\tLR: 0.0111481\n",
      "Episode 1600\tAverage Score: 11.24\tEps: 0.20\tLR: 0.0100867\n",
      "Episode 1700\tAverage Score: 10.77\tEps: 0.18\tLR: 0.0091264\n",
      "Episode 1800\tAverage Score: 11.03\tEps: 0.17\tLR: 0.0082575\n",
      "Episode 1900\tAverage Score: 10.71\tEps: 0.15\tLR: 0.0074713\n",
      "Episode 2000\tAverage Score: 12.12\tEps: 0.14\tLR: 0.0067600\n",
      "Episode 2100\tAverage Score: 12.77\tEps: 0.12\tLR: 0.0061164\n",
      "Episode 2200\tAverage Score: 12.48\tEps: 0.11\tLR: 0.0055341\n",
      "Episode 2300\tAverage Score: 12.70\tEps: 0.10\tLR: 0.0050072\n",
      "Episode 2400\tAverage Score: 13.02\tEps: 0.09\tLR: 0.0045305\n",
      "Episode 2500\tAverage Score: 13.04\tEps: 0.08\tLR: 0.0040991\n",
      "Episode 2600\tAverage Score: 12.92\tEps: 0.07\tLR: 0.0037089\n",
      "Episode 2700\tAverage Score: 13.31\tEps: 0.07\tLR: 0.0033557\n",
      "Episode 2800\tAverage Score: 13.81\tEps: 0.06\tLR: 0.0030362\n",
      "Episode 2900\tAverage Score: 14.94\tEps: 0.05\tLR: 0.0027472\n",
      "Episode 3000\tAverage Score: 14.64\tEps: 0.05\tLR: 0.0024856\n",
      "Episode 3100\tAverage Score: 14.26\tEps: 0.04\tLR: 0.0022490\n",
      "Episode 3200\tAverage Score: 13.83\tEps: 0.04\tLR: 0.0020348\n",
      "Episode 3300\tAverage Score: 14.94\tEps: 0.04\tLR: 0.0018411\n",
      "Episode 3400\tAverage Score: 14.61\tEps: 0.03\tLR: 0.0016658\n",
      "Episode 3500\tAverage Score: 14.09\tEps: 0.03\tLR: 0.0015072\n",
      "Episode 3600\tAverage Score: 15.55\tEps: 0.03\tLR: 0.0013637\n",
      "Episode 3700\tAverage Score: 14.69\tEps: 0.02\tLR: 0.0012339\n",
      "Episode 3800\tAverage Score: 15.17\tEps: 0.02\tLR: 0.0011164\n",
      "Episode 3900\tAverage Score: 14.75\tEps: 0.02\tLR: 0.0010101\n",
      "Episode 4000\tAverage Score: 15.27\tEps: 0.02\tLR: 0.0009140\n",
      "Episode 4100\tAverage Score: 15.42\tEps: 0.02\tLR: 0.0008269\n",
      "Episode 4200\tAverage Score: 15.51\tEps: 0.01\tLR: 0.0007482\n",
      "Episode 4300\tAverage Score: 14.82\tEps: 0.01\tLR: 0.0006770\n",
      "Episode 4400\tAverage Score: 15.46\tEps: 0.01\tLR: 0.0006125\n",
      "Episode 4500\tAverage Score: 15.29\tEps: 0.01\tLR: 0.0005542\n",
      "Episode 4600\tAverage Score: 15.24\tEps: 0.01\tLR: 0.0005014\n",
      "Episode 4700\tAverage Score: 14.49\tEps: 0.01\tLR: 0.0004537\n",
      "Episode 4800\tAverage Score: 15.39\tEps: 0.01\tLR: 0.0004105\n",
      "Episode 4900\tAverage Score: 15.88\tEps: 0.01\tLR: 0.0003714\n",
      "Episode 5000\tAverage Score: 15.65\tEps: 0.01\tLR: 0.0003361\n"
     ]
    },
    {
     "data": {
      "image/png": "[encoded data removed]",
      "text/plain": [
       "<matplotlib.figure.Figure at 0x290f7cecbe0>"
      ]
     },
     "metadata": {},
     "output_type": "display_data"
    }
   ],
   "source": [
    "#\n",
    "# This Deep Q-Learning network is based on the Udacity AI-Gym Lunar Lander example.\n",
    "#\n",
    "def dqn(brain_name, n_episodes=5000, max_t=1000, eps_start=1.0, eps_end=0.0005, eps_decay=0.999):\n",
    "    \"\"\"Deep Q-Learning.\n",
    "    \n",
    "    Params\n",
    "    ======\n",
    "        n_episodes (int): maximum number of training episodes\n",
    "        max_t (int): maximum number of timesteps per episode\n",
    "        eps_start (float): starting value of epsilon, for epsilon-greedy action selection\n",
    "        eps_end (float): minimum value of epsilon\n",
    "        eps_decay (float): multiplicative factor (per episode) for decreasing epsilon\n",
    "    \"\"\"\n",
    "    scores = []                        # list containing scores from each episode\n",
    "    scores_window = deque(maxlen=100)  # last 100 scores\n",
    "    eps = eps_start                    # initialize epsilon    \n",
    "     \n",
    "    LR       = 0.05\n",
    "    LR_decay = 0.999\n",
    "    LR_min   = 0.00001\n",
    "    for i_episode in range(1, n_episodes+1):\n",
    "        \n",
    "        # Reset the Unity environment and obtain the current information from it.\n",
    "        # env_info contains information on the current state, the current reward,\n",
    "        # and information on whether or not the current episode has finished.\n",
    "        env_info = env.reset(train_mode=True)[brain_name]\n",
    "        \n",
    "        # Get the current state info from env_info\n",
    "        state    = env_info.vector_observations[0]  \n",
    "        \n",
    "        # Initialize the score for this episode.  This will increase (or, decrease) with\n",
    "        # each earned reward.\n",
    "        score    = 0\n",
    "            \n",
    "        # Decrease LR slightly with each episode\n",
    "        LR *= LR_decay\n",
    "        LR  = max(LR, LR_min)\n",
    "        \n",
    "        # Each episode consists of max_t time steps.  Execute each of them now.\n",
    "        for t in range(max_t):         \n",
    "            action     = agent.act(state, eps)             # let the agent select an action\n",
    "            env_info   = env.step(int(action))[brain_name] # send the action to the environment\n",
    "            next_state = env_info.vector_observations[0]   # get the next state\n",
    "            reward     = env_info.rewards[0]               # get the reward\n",
    "            done       = env_info.local_done[0]            # see if episode has finished\n",
    "            score      += reward                           # update the score\n",
    "\n",
    "            # Important:  step the agent so it can learn from the reward achieved in the\n",
    "            # current state based on the selected action.\n",
    "            agent.step(state, action, reward, next_state, done)\n",
    "                \n",
    "            state      = next_state                        # roll over the state to next time step\n",
    "\n",
    "            if done:                                       # exit loop if episode finished\n",
    "                break\n",
    "        \n",
    "        # \n",
    "        # This episode is complete.  Update the scores and decrease eps for the next episode.\n",
    "        #\n",
    "        scores_window.append(score)       # save most recent score\n",
    "        scores.append(score)              # save most recent score\n",
    "        eps = max(eps_end, eps_decay*eps) # decrease epsilon\n",
    "        \n",
    "        # Report current status (episode number, current average score over the past 100 episodes, and current eps)\n",
    "        print('\\rEpisode {}\\tAverage Score: {:.2f}\\tEps: {:.2f}\\tLR: {:.7f}'.format(i_episode, np.mean(scores_window), eps, LR), end=\"\")\n",
    "        if i_episode % 100 == 0:\n",
    "            print('\\rEpisode {}\\tAverage Score: {:.2f}'.format(i_episode, np.mean(scores_window)))\n",
    "        if np.mean(scores_window)>=200.0:\n",
    "            print('\\nEnvironment solved in {:d} episodes!\\tAverage Score: {:.2f}'.format(i_episode-100, np.mean(scores_window)))\n",
    "            torch.save(agent.qnetwork_local.state_dict(), 'checkpoint.pth')\n",
    "            break\n",
    "            \n",
    "    # All the scheduled episode have completed.  Return the scores so they can be plotted.\n",
    "    return scores\n",
    "\n",
    "print('Using brain ', brain_name)\n",
    "\n",
    "# Execute the deep-q learning process\n",
    "scores = dqn(brain_name)\n",
    "\n",
    "# Save the agent so that it can later be restored if needed.\n",
    "agent.save('navigation_checkpoint.pt')\n",
    "\n",
    "# plot the scores\n",
    "fig = plt.figure()\n",
    "ax = fig.add_subplot(111)\n",
    "plt.plot(np.arange(len(scores)), scores)\n",
    "plt.ylabel('Score')\n",
    "plt.xlabel('Episode #')\n",
    "plt.show()"
   ]
  },
  {
   "cell_type": "code",
   "execution_count": 4,
   "metadata": {},
   "outputs": [],
   "source": [
    "env.close()"
   ]
  },
  {
   "cell_type": "code",
   "execution_count": null,
   "metadata": {},
   "outputs": [],
   "source": []
  }
 ],
 "metadata": {
  "kernelspec": {
   "display_name": "Python 3",
   "language": "python",
   "name": "python3"
  },
  "language_info": {
   "codemirror_mode": {
    "name": "ipython",
    "version": 3
   },
   "file_extension": ".py",
   "mimetype": "text/x-python",
   "name": "python",
   "nbconvert_exporter": "python",
   "pygments_lexer": "ipython3",
   "version": "3.6.4"
  }
 },
 "nbformat": 4,
 "nbformat_minor": 2
}
